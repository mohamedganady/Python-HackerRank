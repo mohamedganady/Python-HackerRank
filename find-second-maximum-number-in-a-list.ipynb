{
 "cells": [
  {
   "cell_type": "code",
   "execution_count": 18,
   "id": "9a63d362-915e-4a16-8f5b-323f3c050f41",
   "metadata": {
    "tags": []
   },
   "outputs": [
    {
     "name": "stdin",
     "output_type": "stream",
     "text": [
      " 5 \n",
      " 4 8 9 6 5\n"
     ]
    },
    {
     "data": {
      "text/plain": [
       "8"
      ]
     },
     "execution_count": 18,
     "metadata": {},
     "output_type": "execute_result"
    }
   ],
   "source": [
    "n = int(input())\n",
    "arr = map( int , input().split())\n",
    "\n",
    "arr = list(set(arr))\n",
    "arr.sort(reverse=True)\n",
    "print(arr[1])\n",
    "\n"
   ]
  },
  {
   "cell_type": "code",
   "execution_count": null,
   "id": "e5bce04e-a9b8-4f3e-bd71-c144dacd412e",
   "metadata": {},
   "outputs": [],
   "source": [
    "n=input()\n",
    "a=map(int,input().split())\n",
    "a=list(set(a))\n",
    "a.remove(max(a))\n",
    "print (max(a))\n"
   ]
  },
  {
   "cell_type": "markdown",
   "id": "2ff5cb7c-591a-4929-a24a-cd3e9f1a09e0",
   "metadata": {
    "tags": []
   },
   "source": [
    "### we can fill the list using two methods :\n",
    "1) For \n",
    "2) Map"
   ]
  },
  {
   "cell_type": "code",
   "execution_count": null,
   "id": "e6296ac2-8d98-4328-bacb-43a3d99147af",
   "metadata": {},
   "outputs": [],
   "source": []
  }
 ],
 "metadata": {
  "kernelspec": {
   "display_name": "Python 3 (ipykernel)",
   "language": "python",
   "name": "python3"
  },
  "language_info": {
   "codemirror_mode": {
    "name": "ipython",
    "version": 3
   },
   "file_extension": ".py",
   "mimetype": "text/x-python",
   "name": "python",
   "nbconvert_exporter": "python",
   "pygments_lexer": "ipython3",
   "version": "3.11.5"
  }
 },
 "nbformat": 4,
 "nbformat_minor": 5
}
