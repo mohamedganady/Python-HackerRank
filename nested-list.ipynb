{
 "cells": [
  {
   "cell_type": "code",
   "execution_count": 9,
   "id": "5b56f5cd-65af-4263-a915-796a667409e7",
   "metadata": {
    "tags": []
   },
   "outputs": [
    {
     "name": "stdin",
     "output_type": "stream",
     "text": [
      " 2\n",
      " ahmed\n",
      " 5.6\n",
      " ali\n",
      " 1.5\n"
     ]
    },
    {
     "name": "stdout",
     "output_type": "stream",
     "text": [
      "[['ahmed', 5.6], ['ali', 1.5]]\n"
     ]
    }
   ],
   "source": [
    "names_score = []\n",
    "for _ in range(int(input())):\n",
    "\n",
    "    name = input()\n",
    "    score = float(input())\n",
    "\n",
    "    names_score.append([name ,score])\n",
    "    \n",
    "print(names_score)"
   ]
  },
  {
   "cell_type": "code",
   "execution_count": null,
   "id": "c18103bd-e610-4093-8101-d31d3e7db0c1",
   "metadata": {},
   "outputs": [],
   "source": [
    "if __name__ == '__main__':\n",
    "    scores = []\n",
    "    for _ in range(int(input())):\n",
    "        name = input()\n",
    "        score = float(input()) \n",
    "        scores.append([name, score])\n",
    "    \n",
    "    # Find min score\n",
    "    min_score = min(scores, key = lambda x: x[1])\n",
    "    \n",
    "    # Keep only students with score higher than min\n",
    "    scores = [score for score in scores if score[1] > min_score[1]]\n",
    "    \n",
    "    # Find second min score\n",
    "    second_min_score = min(scores, key = lambda x: x[1])"
   ]
  }
 ],
 "metadata": {
  "kernelspec": {
   "display_name": "Python 3 (ipykernel)",
   "language": "python",
   "name": "python3"
  },
  "language_info": {
   "codemirror_mode": {
    "name": "ipython",
    "version": 3
   },
   "file_extension": ".py",
   "mimetype": "text/x-python",
   "name": "python",
   "nbconvert_exporter": "python",
   "pygments_lexer": "ipython3",
   "version": "3.11.5"
  }
 },
 "nbformat": 4,
 "nbformat_minor": 5
}
