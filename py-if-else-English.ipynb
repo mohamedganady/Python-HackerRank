{
 "cells": [
  {
   "cell_type": "code",
   "execution_count": 18,
   "id": "6c5fb059-a459-4542-8d07-3beb1006734b",
   "metadata": {
    "tags": []
   },
   "outputs": [
    {
     "name": "stdin",
     "output_type": "stream",
     "text": [
      "Enter The Number : 5 \n"
     ]
    },
    {
     "name": "stdout",
     "output_type": "stream",
     "text": [
      "Weird\n"
     ]
    }
   ],
   "source": [
    "n = int(input().strip())  #function in Python is a method used on strings to remove leading and trailing characters\n",
    "if (n % 2 != 0):\n",
    "    print(\"Weird\")\n",
    "\n",
    "elif (n % 2 == 0) and (2 <= n <= 5) :\n",
    "    print(\"Not Weird\")\n",
    "\n",
    "elif (n % 2 == 0) and (6 <= n <= 20) :\n",
    "    print(\"Weird\") \n",
    "\n",
    "elif (n % 2 == 0) and (n > 20) :\n",
    "    print(\"Not Weird\")\n"
   ]
  },
  {
   "cell_type": "code",
   "execution_count": null,
   "id": "7632e123-7abe-4775-8ef1-03ca8bc725d8",
   "metadata": {},
   "outputs": [],
   "source": []
  }
 ],
 "metadata": {
  "kernelspec": {
   "display_name": "Python 3 (ipykernel)",
   "language": "python",
   "name": "python3"
  },
  "language_info": {
   "codemirror_mode": {
    "name": "ipython",
    "version": 3
   },
   "file_extension": ".py",
   "mimetype": "text/x-python",
   "name": "python",
   "nbconvert_exporter": "python",
   "pygments_lexer": "ipython3",
   "version": "3.11.5"
  }
 },
 "nbformat": 4,
 "nbformat_minor": 5
}
