{
 "cells": [
  {
   "cell_type": "code",
   "execution_count": 5,
   "id": "7e80734e-35b9-42f5-9f5a-e9a7fbeb3b5c",
   "metadata": {
    "tags": []
   },
   "outputs": [
    {
     "name": "stdin",
     "output_type": "stream",
     "text": [
      " qA2\n"
     ]
    },
    {
     "name": "stdout",
     "output_type": "stream",
     "text": [
      "True\n",
      "False\n",
      "False\n",
      "False\n"
     ]
    }
   ],
   "source": [
    "if __name__ == '__main__':\n",
    "    s = input()\n",
    "    print(s.isalnum())\n",
    "    print(s.isalpha())\n",
    "    print(s.isdigit())\n",
    "    print(s.islower())"
   ]
  },
  {
   "cell_type": "code",
   "execution_count": 29,
   "id": "457eb026-a093-448b-8789-0f8222f009f6",
   "metadata": {
    "tags": []
   },
   "outputs": [
    {
     "name": "stdin",
     "output_type": "stream",
     "text": [
      " jj\n"
     ]
    },
    {
     "name": "stdout",
     "output_type": "stream",
     "text": [
      "[True, True]\n"
     ]
    }
   ],
   "source": [
    "if __name__ == '__main__':\n",
    "    s = input()\n",
    "    \n",
    "    result = [i.isalnum() for i in s ]\n",
    "    print(result)"
   ]
  },
  {
   "cell_type": "code",
   "execution_count": 27,
   "id": "0618d6f1-ff38-498b-a058-001363df079e",
   "metadata": {
    "tags": []
   },
   "outputs": [
    {
     "name": "stdin",
     "output_type": "stream",
     "text": [
      " a1\n"
     ]
    },
    {
     "name": "stdout",
     "output_type": "stream",
     "text": [
      "[True, True]\n"
     ]
    }
   ],
   "source": [
    "if __name__ == '__main__':\n",
    "    s = input()\n",
    "\n",
    "    result = [i.isalnum() for i in s]\n",
    "    print(result)"
   ]
  },
  {
   "cell_type": "code",
   "execution_count": 9,
   "id": "0c470adf-92bb-41f9-a9b0-bf950dad14c7",
   "metadata": {
    "tags": []
   },
   "outputs": [
    {
     "name": "stdout",
     "output_type": "stream",
     "text": [
      "True\n"
     ]
    }
   ],
   "source": [
    "print(any(item.isalnum() for item in s))"
   ]
  },
  {
   "cell_type": "code",
   "execution_count": 11,
   "id": "2714d27c-8327-4db2-9693-f65d5d92016d",
   "metadata": {
    "tags": []
   },
   "outputs": [
    {
     "name": "stdin",
     "output_type": "stream",
     "text": [
      " qA2\n"
     ]
    },
    {
     "name": "stdout",
     "output_type": "stream",
     "text": [
      "True\n",
      "True\n",
      "True\n",
      "True\n",
      "True\n"
     ]
    }
   ],
   "source": [
    "if __name__ == '__main__':\n",
    "    s = input()\n",
    "    print(any(item.isalnum() for item in s))\n",
    "    print(any(item.isalpha() for item in s))\n",
    "    print(any(item.isdigit() for item in s))\n",
    "    print(any(item.islower() for item in s))\n",
    "    print(any(item.isupper() for item in s))"
   ]
  },
  {
   "cell_type": "code",
   "execution_count": 31,
   "id": "892de544-0c23-4b48-9d66-68aa367a52f0",
   "metadata": {
    "tags": []
   },
   "outputs": [
    {
     "name": "stdin",
     "output_type": "stream",
     "text": [
      " qA2\n"
     ]
    },
    {
     "name": "stdout",
     "output_type": "stream",
     "text": [
      "True\n",
      "True\n",
      "True\n",
      "True\n",
      "True\n"
     ]
    }
   ],
   "source": [
    "if __name__ == '__main__':\n",
    "    s = input()\n",
    "\n",
    "res = False\n",
    "for i in s:\n",
    "    if i.isalnum():\n",
    "        res = True\n",
    "        break\n",
    "print(res)\n",
    "\n",
    "res = False\n",
    "for j in s:\n",
    "    if j.isalpha():\n",
    "        res = True\n",
    "        break\n",
    "print(res)\n",
    "\n",
    "res = False\n",
    "for k in s:\n",
    "    if k.isdigit():\n",
    "        res = True\n",
    "        break\n",
    "print(res)\n",
    "\n",
    "res = False\n",
    "for l in s:\n",
    "    if l.islower():\n",
    "        res = True\n",
    "        break\n",
    "print(res)\n",
    "\n",
    "res = False\n",
    "for l in s:\n",
    "    if l.isupper():\n",
    "        res = True\n",
    "        break\n",
    "print(res)\n",
    "            "
   ]
  },
  {
   "cell_type": "code",
   "execution_count": null,
   "id": "fe622707-44ae-4c75-a002-9a549334279d",
   "metadata": {},
   "outputs": [],
   "source": []
  }
 ],
 "metadata": {
  "kernelspec": {
   "display_name": "Python 3 (ipykernel)",
   "language": "python",
   "name": "python3"
  },
  "language_info": {
   "codemirror_mode": {
    "name": "ipython",
    "version": 3
   },
   "file_extension": ".py",
   "mimetype": "text/x-python",
   "name": "python",
   "nbconvert_exporter": "python",
   "pygments_lexer": "ipython3",
   "version": "3.11.5"
  }
 },
 "nbformat": 4,
 "nbformat_minor": 5
}
