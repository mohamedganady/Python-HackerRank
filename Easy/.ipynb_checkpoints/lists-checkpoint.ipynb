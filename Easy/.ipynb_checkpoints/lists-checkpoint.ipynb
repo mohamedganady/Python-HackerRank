{
 "cells": [
  {
   "cell_type": "code",
   "execution_count": 11,
   "id": "dc18eaab-0629-4484-aed3-a42c82689983",
   "metadata": {
    "tags": []
   },
   "outputs": [
    {
     "name": "stdout",
     "output_type": "stream",
     "text": [
      "[6, 5, 10]\n"
     ]
    }
   ],
   "source": [
    "mylist = []\n",
    "mylist.insert(0,5)\n",
    "mylist.insert(1,10)\n",
    "mylist.insert(0,6)\n",
    "print(mylist)"
   ]
  },
  {
   "cell_type": "code",
   "execution_count": 13,
   "id": "b82825af-a6f2-477a-9687-0c1a89d531f8",
   "metadata": {
    "tags": []
   },
   "outputs": [
    {
     "name": "stdout",
     "output_type": "stream",
     "text": [
      "[1, 5, 9, 10]\n"
     ]
    }
   ],
   "source": [
    "mylist.remove(6)\n",
    "mylist.append(9)\n",
    "mylist.append(1)\n",
    "mylist.sort()\n",
    "print(mylist)"
   ]
  },
  {
   "cell_type": "code",
   "execution_count": 15,
   "id": "79aff70a-ebfa-4fbd-a1db-726da7dfe3f4",
   "metadata": {
    "tags": []
   },
   "outputs": [
    {
     "name": "stdout",
     "output_type": "stream",
     "text": [
      "[9, 5, 1]\n"
     ]
    }
   ],
   "source": [
    "mylist.pop()\n",
    "mylist.reverse()\n",
    "print(mylist)"
   ]
  },
  {
   "cell_type": "code",
   "execution_count": null,
   "id": "eb5a68d7-d30b-4fc5-9a08-c72f0b752f7c",
   "metadata": {},
   "outputs": [],
   "source": []
  }
 ],
 "metadata": {
  "kernelspec": {
   "display_name": "Python 3 (ipykernel)",
   "language": "python",
   "name": "python3"
  },
  "language_info": {
   "codemirror_mode": {
    "name": "ipython",
    "version": 3
   },
   "file_extension": ".py",
   "mimetype": "text/x-python",
   "name": "python",
   "nbconvert_exporter": "python",
   "pygments_lexer": "ipython3",
   "version": "3.11.5"
  }
 },
 "nbformat": 4,
 "nbformat_minor": 5
}
