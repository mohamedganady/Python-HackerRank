{
 "cells": [
  {
   "cell_type": "code",
   "execution_count": 3,
   "id": "0c0f51b3-8074-4d3d-bef1-4c0550f46b89",
   "metadata": {
    "tags": []
   },
   "outputs": [
    {
     "ename": "TypeError",
     "evalue": "'str' object does not support item assignment",
     "output_type": "error",
     "traceback": [
      "\u001b[1;31m---------------------------------------------------------------------------\u001b[0m",
      "\u001b[1;31mTypeError\u001b[0m                                 Traceback (most recent call last)",
      "Cell \u001b[1;32mIn[3], line 2\u001b[0m\n\u001b[0;32m      1\u001b[0m string\u001b[38;5;241m=\u001b[39m \u001b[38;5;124m\"\u001b[39m\u001b[38;5;124mAhmed\u001b[39m\u001b[38;5;124m\"\u001b[39m\n\u001b[1;32m----> 2\u001b[0m string[\u001b[38;5;241m3\u001b[39m] \u001b[38;5;241m=\u001b[39m \u001b[38;5;124m\"\u001b[39m\u001b[38;5;124mM\u001b[39m\u001b[38;5;124m\"\u001b[39m\n",
      "\u001b[1;31mTypeError\u001b[0m: 'str' object does not support item assignment"
     ]
    }
   ],
   "source": [
    "string= \"Ahmed\"   #string immutable i can't change values in it\n",
    "string[3] = \"M\""
   ]
  },
  {
   "cell_type": "raw",
   "id": "8712208d-fbea-445a-b4b1-a636beaf65b6",
   "metadata": {},
   "source": [
    "## to convert string to list we use list\n",
    "## to convert list to string we use join "
   ]
  },
  {
   "cell_type": "code",
   "execution_count": 5,
   "id": "c567515b-8823-4e49-9486-dd102ecf3e1f",
   "metadata": {
    "tags": []
   },
   "outputs": [],
   "source": [
    "string =list(string)"
   ]
  },
  {
   "cell_type": "code",
   "execution_count": 7,
   "id": "8fbb4a2f-f445-4ffb-8918-e807dbf8d741",
   "metadata": {
    "tags": []
   },
   "outputs": [
    {
     "data": {
      "text/plain": [
       "['A', 'h', 'm', 'e', 'd']"
      ]
     },
     "execution_count": 7,
     "metadata": {},
     "output_type": "execute_result"
    }
   ],
   "source": [
    "string"
   ]
  },
  {
   "cell_type": "code",
   "execution_count": 9,
   "id": "82fd1aec-9896-4427-83af-cdecdbc99552",
   "metadata": {
    "tags": []
   },
   "outputs": [],
   "source": [
    "string[3]=\"AA\""
   ]
  },
  {
   "cell_type": "code",
   "execution_count": 11,
   "id": "60fa997c-cb70-42f1-bf7c-6cc49ec7cc1a",
   "metadata": {
    "tags": []
   },
   "outputs": [
    {
     "data": {
      "text/plain": [
       "['A', 'h', 'm', 'AA', 'd']"
      ]
     },
     "execution_count": 11,
     "metadata": {},
     "output_type": "execute_result"
    }
   ],
   "source": [
    "string"
   ]
  },
  {
   "cell_type": "code",
   "execution_count": 21,
   "id": "dfd65b4b-3d4d-488d-91ac-af0b7b2cf456",
   "metadata": {
    "tags": []
   },
   "outputs": [],
   "source": [
    "string=\" \".join(string)"
   ]
  },
  {
   "cell_type": "code",
   "execution_count": 23,
   "id": "b5a70a39-4c11-408c-842c-33b899b6de78",
   "metadata": {
    "tags": []
   },
   "outputs": [
    {
     "data": {
      "text/plain": [
       "'A h m A A d'"
      ]
     },
     "execution_count": 23,
     "metadata": {},
     "output_type": "execute_result"
    }
   ],
   "source": [
    "string"
   ]
  },
  {
   "cell_type": "code",
   "execution_count": 29,
   "id": "34f8b061-2333-4c8d-b881-0ac69406af96",
   "metadata": {
    "tags": []
   },
   "outputs": [
    {
     "name": "stdin",
     "output_type": "stream",
     "text": [
      " sss jj\n"
     ]
    }
   ],
   "source": [
    "i, c = input().split()"
   ]
  },
  {
   "cell_type": "code",
   "execution_count": 33,
   "id": "d39c558c-faa5-4754-bc59-c701909bcf40",
   "metadata": {
    "tags": []
   },
   "outputs": [
    {
     "name": "stdin",
     "output_type": "stream",
     "text": [
      " abracadabra\n",
      " 5 k\n"
     ]
    },
    {
     "name": "stdout",
     "output_type": "stream",
     "text": [
      "abrackdabra\n"
     ]
    }
   ],
   "source": [
    "def mutate_string(string, position, character):\n",
    "    string = list(string)\n",
    "    string[5]=\"k\"\n",
    "    string = \"\".join(string)\n",
    "    return string\n",
    "\n",
    "if __name__ == '__main__':\n",
    "    s = input()\n",
    "    i, c = input().split()\n",
    "    s_new = mutate_string(s, int(i), c)\n",
    "    print(s_new)"
   ]
  },
  {
   "cell_type": "code",
   "execution_count": null,
   "id": "d5b125d8-af0d-4895-a56c-96290d0f434c",
   "metadata": {},
   "outputs": [],
   "source": [
    "def mutate_string(string, position, character):\n",
    "    string = list(string)\n",
    "    string[position]= character\n",
    "    string = \"\".join(string)\n",
    "    return string\n",
    "\n",
    "\n",
    "\n",
    "\n",
    "if __name__ == '__main__':\n",
    "    s = input()\n",
    "    i, c = input().split()\n",
    "    s_new = mutate_string(s, int(i), c)\n",
    "    print(s_new)"
   ]
  }
 ],
 "metadata": {
  "kernelspec": {
   "display_name": "Python 3 (ipykernel)",
   "language": "python",
   "name": "python3"
  },
  "language_info": {
   "codemirror_mode": {
    "name": "ipython",
    "version": 3
   },
   "file_extension": ".py",
   "mimetype": "text/x-python",
   "name": "python",
   "nbconvert_exporter": "python",
   "pygments_lexer": "ipython3",
   "version": "3.11.5"
  }
 },
 "nbformat": 4,
 "nbformat_minor": 5
}
