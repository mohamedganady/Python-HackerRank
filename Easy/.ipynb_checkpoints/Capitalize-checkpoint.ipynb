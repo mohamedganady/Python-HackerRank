{
 "cells": [
  {
   "cell_type": "code",
   "execution_count": 2,
   "id": "f08ade61-9cea-4781-bc62-4d290b86df20",
   "metadata": {},
   "outputs": [
    {
     "name": "stdin",
     "output_type": "stream",
     "text": [
      " ahmed ganady\n"
     ]
    }
   ],
   "source": [
    "s = input()"
   ]
  },
  {
   "cell_type": "code",
   "execution_count": 10,
   "id": "7481a7de-fa64-483a-89d4-8c7c51ce761d",
   "metadata": {
    "tags": []
   },
   "outputs": [
    {
     "data": {
      "text/plain": [
       "'ahmed'"
      ]
     },
     "execution_count": 10,
     "metadata": {},
     "output_type": "execute_result"
    }
   ],
   "source": [
    "new = s.split()\n",
    "new[0]"
   ]
  },
  {
   "cell_type": "code",
   "execution_count": 18,
   "id": "ed5f7bbe-1b9d-48ce-8b8f-190033c7593a",
   "metadata": {
    "tags": []
   },
   "outputs": [
    {
     "data": {
      "text/plain": [
       "'Apple'"
      ]
     },
     "execution_count": 18,
     "metadata": {},
     "output_type": "execute_result"
    }
   ],
   "source": [
    "new[0].replace(new[0] , new[0].capitalize())"
   ]
  },
  {
   "cell_type": "code",
   "execution_count": 14,
   "id": "614fe3e7-11e5-470c-8a0c-19ac20f29388",
   "metadata": {
    "tags": []
   },
   "outputs": [
    {
     "name": "stdout",
     "output_type": "stream",
     "text": [
      "['Apple', 'banana', 'cherry']\n"
     ]
    }
   ],
   "source": [
    "new = ['apple', 'banana', 'cherry']\n",
    "new[0] = new[0].replace('a', 'A')\n",
    "print(new)"
   ]
  },
  {
   "cell_type": "code",
   "execution_count": 26,
   "id": "14eef692-e58a-45ff-8721-dc90b00c2e84",
   "metadata": {
    "tags": []
   },
   "outputs": [
    {
     "name": "stdin",
     "output_type": "stream",
     "text": [
      " ahmed gan\n"
     ]
    },
    {
     "data": {
      "text/plain": [
       "'Ahmed Gan'"
      ]
     },
     "execution_count": 26,
     "metadata": {},
     "output_type": "execute_result"
    }
   ],
   "source": [
    "# for name in s.split() :\n",
    "#     s = s.replace(name , name.capitalize())\n",
    "#     return s \n",
    "\n",
    "def solve(s):\n",
    "    for name in s.split() :\n",
    "        s = s.replace(name , name.capitalize())\n",
    "    return s \n",
    "    \n",
    "\n",
    "\n",
    "\n",
    "\n",
    "s = input()\n",
    "\n",
    "solve(s)"
   ]
  },
  {
   "cell_type": "code",
   "execution_count": null,
   "id": "2cd9c4c2-0cf3-47c1-a6de-26ab37957208",
   "metadata": {},
   "outputs": [],
   "source": [
    "#!/bin/python3\n",
    "\n",
    "import math\n",
    "import os\n",
    "import random\n",
    "import re\n",
    "import sys\n",
    "\n",
    "# Complete the solve function below.\n",
    "def solve(s):\n",
    "    return \" \".join([name.capitalize() for name in s.split(\" \")])\n",
    "\n",
    "\n",
    "if __name__ == '__main__':\n",
    "    fptr = open(os.environ['OUTPUT_PATH'], 'w')\n",
    "\n",
    "    s = input()\n",
    "\n",
    "    result = solve(s)\n",
    "\n",
    "    fptr.write(result + '\\n')\n",
    "\n",
    "    fptr.close()\n"
   ]
  }
 ],
 "metadata": {
  "kernelspec": {
   "display_name": "Python 3 (ipykernel)",
   "language": "python",
   "name": "python3"
  },
  "language_info": {
   "codemirror_mode": {
    "name": "ipython",
    "version": 3
   },
   "file_extension": ".py",
   "mimetype": "text/x-python",
   "name": "python",
   "nbconvert_exporter": "python",
   "pygments_lexer": "ipython3",
   "version": "3.11.5"
  }
 },
 "nbformat": 4,
 "nbformat_minor": 5
}
