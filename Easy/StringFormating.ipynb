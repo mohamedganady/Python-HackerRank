{
 "cells": [
  {
   "cell_type": "code",
   "execution_count": null,
   "id": "1f37d5fe-6df2-49fe-8775-ab2edf641571",
   "metadata": {},
   "outputs": [],
   "source": [
    "def print_formatted(number):\n",
    "    # your code goes here\n",
    "\n",
    "if __name__ == '__main__':\n",
    "    n = int(input())\n",
    "    print_formatted(n)"
   ]
  },
  {
   "cell_type": "code",
   "execution_count": 15,
   "id": "106c4099-238e-4ec3-bd77-344cea4bbdf8",
   "metadata": {
    "tags": []
   },
   "outputs": [
    {
     "name": "stdout",
     "output_type": "stream",
     "text": [
      "24\n"
     ]
    }
   ],
   "source": [
    "num = 20\n",
    "i = oct(num)\n",
    "print(i[2:])\n"
   ]
  },
  {
   "cell_type": "code",
   "execution_count": 41,
   "id": "8ebac92a-0bc9-43fd-a339-8468b9916195",
   "metadata": {
    "tags": []
   },
   "outputs": [
    {
     "name": "stdout",
     "output_type": "stream",
     "text": [
      "-----Hello\n"
     ]
    }
   ],
   "source": [
    "text = \"Hello\"\n",
    "justified_text = text.rjust(10, \"-\")\n",
    "print(justified_text)"
   ]
  },
  {
   "cell_type": "code",
   "execution_count": 25,
   "id": "c48f9879-b0f5-44a6-a9ec-c68e788e8a66",
   "metadata": {
    "tags": []
   },
   "outputs": [
    {
     "data": {
      "text/plain": [
       "'10100'"
      ]
     },
     "execution_count": 25,
     "metadata": {},
     "output_type": "execute_result"
    }
   ],
   "source": [
    "num = 20\n",
    "i = bin(num)\n",
    "i[2:]"
   ]
  },
  {
   "cell_type": "code",
   "execution_count": 39,
   "id": "a1dd5eca-7532-411c-8ad4-ee9115a432d9",
   "metadata": {
    "tags": []
   },
   "outputs": [
    {
     "name": "stdout",
     "output_type": "stream",
     "text": [
      "42       0o52\n"
     ]
    }
   ],
   "source": [
    "deci = 42\n",
    "octa = oct(deci)\n",
    "\n",
    "print(str(deci).rjust(2), str(octa).rjust(10))"
   ]
  },
  {
   "cell_type": "code",
   "execution_count": 35,
   "id": "cca8af41-fdfa-42fa-8aa6-561f683b4e09",
   "metadata": {
    "tags": []
   },
   "outputs": [
    {
     "name": "stdin",
     "output_type": "stream",
     "text": [
      " 14\n"
     ]
    },
    {
     "name": "stdout",
     "output_type": "stream",
     "text": [
      "   1    1    1    1\n",
      "   2    2    2   10\n",
      "   3    3    3   11\n",
      "   4    4    4  100\n",
      "   5    5    5  101\n",
      "   6    6    6  110\n",
      "   7    7    7  111\n",
      "   8   10    8 1000\n",
      "   9   11    9 1001\n",
      "  10   12    A 1010\n",
      "  11   13    B 1011\n",
      "  12   14    C 1100\n",
      "  13   15    D 1101\n",
      "  14   16    E 1110\n"
     ]
    }
   ],
   "source": [
    "def print_formatted(number):\n",
    "    width = len(bin(number)[2:])\n",
    "    for i in range(1, number+1):\n",
    "        deci = str(i)\n",
    "        octa = oct(i)[2:]\n",
    "        hexa = hex(i)[2:].upper()\n",
    "        bina = bin(i)[2:]\n",
    "        print(deci.rjust(width),octa.rjust(width),hexa.rjust(width),bina.rjust(width))\n",
    "\n",
    "if __name__ == '__main__':\n",
    "    n = int(input())\n",
    "    print_formatted(n)"
   ]
  },
  {
   "cell_type": "code",
   "execution_count": 49,
   "id": "23c36404-85a5-4919-ba64-5a1d7927d0aa",
   "metadata": {
    "tags": []
   },
   "outputs": [
    {
     "name": "stdin",
     "output_type": "stream",
     "text": [
      " 15\n"
     ]
    },
    {
     "name": "stdout",
     "output_type": "stream",
     "text": [
      "--------------1\n",
      "--------------2\n",
      "--------------3\n",
      "--------------4\n",
      "--------------5\n",
      "--------------6\n",
      "--------------7\n",
      "--------------8\n",
      "--------------9\n",
      "-------------10\n",
      "-------------11\n",
      "-------------12\n",
      "-------------13\n",
      "-------------14\n",
      "-------------15\n"
     ]
    }
   ],
   "source": [
    "def print_formatted(number):\n",
    "   \n",
    "    for i in range(1, number+1):\n",
    "        deci = str(i)\n",
    "        print(deci.rjust(15 , \"-\"))\n",
    "        \n",
    "        \n",
    "if __name__ == '__main__':\n",
    "    n = int(input())\n",
    "    print_formatted(n)"
   ]
  },
  {
   "cell_type": "code",
   "execution_count": null,
   "id": "3918b57d-699a-4b1a-9567-023f83437982",
   "metadata": {},
   "outputs": [],
   "source": []
  }
 ],
 "metadata": {
  "kernelspec": {
   "display_name": "Python 3 (ipykernel)",
   "language": "python",
   "name": "python3"
  },
  "language_info": {
   "codemirror_mode": {
    "name": "ipython",
    "version": 3
   },
   "file_extension": ".py",
   "mimetype": "text/x-python",
   "name": "python",
   "nbconvert_exporter": "python",
   "pygments_lexer": "ipython3",
   "version": "3.11.5"
  }
 },
 "nbformat": 4,
 "nbformat_minor": 5
}
