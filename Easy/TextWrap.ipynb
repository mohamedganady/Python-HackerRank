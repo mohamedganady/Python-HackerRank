{
 "cells": [
  {
   "cell_type": "code",
   "execution_count": 49,
   "id": "6ccc721a-de73-44de-9116-85d03a671813",
   "metadata": {
    "tags": []
   },
   "outputs": [
    {
     "name": "stdout",
     "output_type": "stream",
     "text": [
      "[0, 1, 2, 3, 4, 5, 6, 7, 8, 9, 10, 11, 12, 13, 14, 15, 16, 17, 18, 19, 20, 21, 22, 23, 24, 25]\n"
     ]
    }
   ],
   "source": [
    "print(list(range(0,len(string))))"
   ]
  },
  {
   "cell_type": "code",
   "execution_count": 51,
   "id": "d2ddcd16-431b-4277-b69f-7ceb8eeb74ba",
   "metadata": {
    "tags": []
   },
   "outputs": [
    {
     "data": {
      "text/plain": [
       "[0,\n",
       " 1,\n",
       " 2,\n",
       " 3,\n",
       " 4,\n",
       " 5,\n",
       " 6,\n",
       " 7,\n",
       " 8,\n",
       " 9,\n",
       " 10,\n",
       " 11,\n",
       " 12,\n",
       " 13,\n",
       " 14,\n",
       " 15,\n",
       " 16,\n",
       " 17,\n",
       " 18,\n",
       " 19,\n",
       " 20,\n",
       " 21,\n",
       " 22,\n",
       " 23,\n",
       " 24,\n",
       " 25]"
      ]
     },
     "execution_count": 51,
     "metadata": {},
     "output_type": "execute_result"
    }
   ],
   "source": [
    "list(range(0,len(string)))"
   ]
  },
  {
   "cell_type": "code",
   "execution_count": null,
   "id": "14a135ee-ef1b-4303-913d-0b8405da7b79",
   "metadata": {},
   "outputs": [],
   "source": [
    "# the wrap() method of the instance to wrap text or \n",
    "# the fill() method to get a single string with line breaks inserted.\n",
    "\n",
    "import textwrap\n",
    "\n",
    "if __name__ == '__main__':\n",
    "    paragraph = \"Loremipsumdolor sit amet, consectetur adipiscing elit. id fermentum odio erat et ante.\"\n",
    "    width = 5\n",
    "    \n",
    "    wrapped_text = textwrap.wrap(paragraph, width=width)\n",
    "    print(wrapped_text)"
   ]
  },
  {
   "cell_type": "code",
   "execution_count": 21,
   "id": "912b7e06-34d4-4ce3-80e6-10cd2a6c537c",
   "metadata": {
    "tags": []
   },
   "outputs": [
    {
     "name": "stdin",
     "output_type": "stream",
     "text": [
      " ABCDEFGHIJKLIMNOQRSTUVWXYZ\n",
      " 4\n"
     ]
    },
    {
     "name": "stdout",
     "output_type": "stream",
     "text": [
      "ABCD\n"
     ]
    }
   ],
   "source": [
    "import textwrap\n",
    "\n",
    "def wrap(string, max_width):\n",
    "    for i in string:\n",
    "        return textwrap.wrap(string,max_width)\n",
    "\n",
    "if __name__ == '__main__':\n",
    "    string, max_width = input(), int(input())\n",
    "    result = wrap(string, max_width)\n",
    "    print(result)"
   ]
  },
  {
   "cell_type": "code",
   "execution_count": 25,
   "id": "8e9c0c64-38cc-422b-a5da-3c4570a3a92d",
   "metadata": {
    "tags": []
   },
   "outputs": [
    {
     "name": "stdin",
     "output_type": "stream",
     "text": [
      " ABCDEFGHIJKLIMNOQRSTUVWXYZ\n",
      " 4\n"
     ]
    },
    {
     "name": "stdout",
     "output_type": "stream",
     "text": [
      "ABCD\n",
      "EFGH\n",
      "IJKL\n",
      "IMNO\n",
      "QRST\n",
      "UVWX\n",
      "YZ\n"
     ]
    }
   ],
   "source": [
    "import textwrap\n",
    "\n",
    "def wrap(string, max_width):\n",
    "    \n",
    "    return textwrap.fill(string,max_width)\n",
    "\n",
    "if __name__ == '__main__':\n",
    "    string, max_width = input(), int(input())\n",
    "    result = wrap(string, max_width)\n",
    "    print(result)"
   ]
  },
  {
   "cell_type": "code",
   "execution_count": 29,
   "id": "aa7d2fb8-400c-4af6-8ef8-e7b2db2b2ae3",
   "metadata": {
    "tags": []
   },
   "outputs": [
    {
     "name": "stdout",
     "output_type": "stream",
     "text": [
      "['This', 'is a', 'long ', 'sente', 'nce', 'that', 'needs', 'to be', 'wrapp', 'ed.']\n"
     ]
    }
   ],
   "source": [
    "#expain wrap\n",
    "\n",
    "import textwrap\n",
    "\n",
    "text = \"This is a long sentence that needs to be wrapped.\"\n",
    "width = 5\n",
    "\n",
    "wrapped_lines = textwrap.wrap(text, width)\n",
    "\n",
    "print(wrapped_lines)"
   ]
  },
  {
   "cell_type": "code",
   "execution_count": 33,
   "id": "5c8e8335-ba64-4ad6-9773-b1828efc05f6",
   "metadata": {
    "tags": []
   },
   "outputs": [
    {
     "name": "stdout",
     "output_type": "stream",
     "text": [
      "This\n",
      "is an\n",
      "other\n",
      "long \n",
      "sente\n",
      "nce\n",
      "that\n",
      "goes\n",
      "over\n",
      "the l\n",
      "imit.\n"
     ]
    }
   ],
   "source": [
    "# explain fill\n",
    "import textwrap\n",
    "\n",
    "text = \"This is another long sentence that goes over the limit.\"\n",
    "width = 5\n",
    "\n",
    "wrapped_text = textwrap.fill(text, width)\n",
    "\n",
    "print(wrapped_text)"
   ]
  },
  {
   "cell_type": "code",
   "execution_count": null,
   "id": "42e8e8ae-bfb7-45eb-b1eb-e38a06263240",
   "metadata": {},
   "outputs": [],
   "source": []
  }
 ],
 "metadata": {
  "kernelspec": {
   "display_name": "Python 3 (ipykernel)",
   "language": "python",
   "name": "python3"
  },
  "language_info": {
   "codemirror_mode": {
    "name": "ipython",
    "version": 3
   },
   "file_extension": ".py",
   "mimetype": "text/x-python",
   "name": "python",
   "nbconvert_exporter": "python",
   "pygments_lexer": "ipython3",
   "version": "3.11.5"
  }
 },
 "nbformat": 4,
 "nbformat_minor": 5
}
