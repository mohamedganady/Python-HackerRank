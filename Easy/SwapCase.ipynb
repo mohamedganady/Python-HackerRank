{
 "cells": [
  {
   "cell_type": "code",
   "execution_count": 13,
   "id": "1f5673ac-def5-49aa-82f4-c9d924e11599",
   "metadata": {
    "tags": []
   },
   "outputs": [
    {
     "name": "stdin",
     "output_type": "stream",
     "text": [
      " MohaMEDGAnadty\n"
     ]
    },
    {
     "name": "stdout",
     "output_type": "stream",
     "text": [
      "mOHAmedgaNADTY\n"
     ]
    }
   ],
   "source": [
    "def swap_case(s):\n",
    "\n",
    "    string = \"\"\n",
    "\n",
    "    for i in s:\n",
    "\n",
    "        if i.isupper() == True:\n",
    "\n",
    "            string+=(i.lower())\n",
    "\n",
    "        else:\n",
    "\n",
    "            string+=(i.upper())\n",
    "\n",
    "    return string\n",
    "\n",
    "\n",
    "if __name__ == '__main__':\n",
    "\n",
    "    s = input()\n",
    "\n",
    "    result = swap_case(s)\n",
    "\n",
    "    print(result)"
   ]
  },
  {
   "cell_type": "code",
   "execution_count": 9,
   "id": "10957b50-dd27-4270-b1b3-3359ff5f0ea2",
   "metadata": {
    "tags": []
   },
   "outputs": [
    {
     "name": "stdin",
     "output_type": "stream",
     "text": [
      " MohamedGANADy\n"
     ]
    },
    {
     "name": "stdout",
     "output_type": "stream",
     "text": [
      " mOHAMEDganadY\n"
     ]
    }
   ],
   "source": [
    "def swap(s):\n",
    "    string =\" \"\n",
    "    for i in s:\n",
    "        if i.isupper():\n",
    "            string +=(i.lower())\n",
    "            \n",
    "        elif i.islower():\n",
    "            string +=(i.upper())\n",
    "            \n",
    "    return string \n",
    "\n",
    "\n",
    "s = input(\"\")\n",
    "result = swap(s)    \n",
    "print(result)"
   ]
  },
  {
   "cell_type": "code",
   "execution_count": 11,
   "id": "0e725526-a5ab-4236-af2d-2e49db8f85be",
   "metadata": {
    "tags": []
   },
   "outputs": [
    {
     "name": "stdout",
     "output_type": "stream",
     "text": [
      "hello world\n"
     ]
    }
   ],
   "source": [
    "def printf():\n",
    "    print(\"hello world\")\n",
    "    \n",
    "\n",
    "printf()"
   ]
  },
  {
   "cell_type": "code",
   "execution_count": null,
   "id": "6b3a5360-5d7d-4e3a-a71e-75b8f5b972dd",
   "metadata": {},
   "outputs": [],
   "source": [
    "def swap_case(s):\n",
    "    s.sw\n",
    "\n",
    "    return string\n",
    "\n",
    "\n",
    "if __name__ == '__main__':\n",
    "\n",
    "    s = input()\n",
    "\n",
    "    result = swap_case(s)\n",
    "\n",
    "    print(result)"
   ]
  }
 ],
 "metadata": {
  "kernelspec": {
   "display_name": "Python 3 (ipykernel)",
   "language": "python",
   "name": "python3"
  },
  "language_info": {
   "codemirror_mode": {
    "name": "ipython",
    "version": 3
   },
   "file_extension": ".py",
   "mimetype": "text/x-python",
   "name": "python",
   "nbconvert_exporter": "python",
   "pygments_lexer": "ipython3",
   "version": "3.11.5"
  }
 },
 "nbformat": 4,
 "nbformat_minor": 5
}
