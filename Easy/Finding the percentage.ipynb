{
 "cells": [
  {
   "cell_type": "code",
   "execution_count": 4,
   "id": "9a28ed94",
   "metadata": {},
   "outputs": [
    {
     "name": "stdout",
     "output_type": "stream",
     "text": [
      "jj bb yy rr cc\n"
     ]
    }
   ],
   "source": [
    "name , *value = input().split()"
   ]
  },
  {
   "cell_type": "code",
   "execution_count": 5,
   "id": "a3f0db5a",
   "metadata": {},
   "outputs": [
    {
     "name": "stdout",
     "output_type": "stream",
     "text": [
      "['bb', 'yy', 'rr', 'cc']\n",
      "jj\n"
     ]
    }
   ],
   "source": [
    "print(value)\n",
    "print(name)"
   ]
  },
  {
   "cell_type": "code",
   "execution_count": null,
   "id": "aa1c8e25",
   "metadata": {},
   "outputs": [],
   "source": [
    "if __name__ == '__main__':\n",
    "    n = int(input())\n",
    "    student_marks = {}\n",
    "    for _ in range(n):\n",
    "        name, *line = input().split()\n",
    "        scores = list(map(float, line))\n",
    "        student_marks[name] = scores\n",
    "    query_name = input()"
   ]
  },
  {
   "cell_type": "code",
   "execution_count": null,
   "id": "384e1d59",
   "metadata": {},
   "outputs": [],
   "source": [
    "def student_average(student_marks,query_name):\n",
    "    for key,value in student_marks.items():\n",
    "        if key == query_name:\n",
    "            average_score = sum(value)/len(value)\n",
    "            \n",
    "    print('{:.2f}'.format(average_score))\n",
    "\n",
    "\n",
    "\n",
    "\n",
    "if __name__ == '__main__':\n",
    "    n = int(input())\n",
    "    student_marks = {}\n",
    "    for _ in range(n):\n",
    "        name, *line = input().split()\n",
    "        scores = list(map(float, line))\n",
    "        student_marks[name] = scores\n",
    "    query_name = input()\n",
    "    student_average(student_marks,query_name)"
   ]
  }
 ],
 "metadata": {
  "kernelspec": {
   "display_name": "Python 3 (ipykernel)",
   "language": "python",
   "name": "python3"
  },
  "language_info": {
   "codemirror_mode": {
    "name": "ipython",
    "version": 3
   },
   "file_extension": ".py",
   "mimetype": "text/x-python",
   "name": "python",
   "nbconvert_exporter": "python",
   "pygments_lexer": "ipython3",
   "version": "3.11.5"
  }
 },
 "nbformat": 4,
 "nbformat_minor": 5
}
