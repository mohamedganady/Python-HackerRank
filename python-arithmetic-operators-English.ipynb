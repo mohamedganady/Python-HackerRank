{
 "cells": [
  {
   "cell_type": "code",
   "execution_count": 5,
   "id": "ce915624-7ce4-4394-97d8-096faf8c8655",
   "metadata": {
    "tags": []
   },
   "outputs": [
    {
     "name": "stdin",
     "output_type": "stream",
     "text": [
      "Enter The First:  5\n",
      "Enter The First:  2\n"
     ]
    },
    {
     "name": "stdout",
     "output_type": "stream",
     "text": [
      "7\n",
      "3\n",
      "10\n"
     ]
    }
   ],
   "source": [
    "#apply the aritmetic\n",
    "a = int(input(\"Enter The First: \"))\n",
    "b = int(input(\"Enter The First: \"))\n",
    "print(a + b)\n",
    "print(a - b)\n",
    "print(a * b) "
   ]
  },
  {
   "cell_type": "code",
   "execution_count": null,
   "id": "862b1d59-41f3-4ab3-aba2-f5ce8daf5992",
   "metadata": {},
   "outputs": [],
   "source": []
  }
 ],
 "metadata": {
  "kernelspec": {
   "display_name": "Python 3 (ipykernel)",
   "language": "python",
   "name": "python3"
  },
  "language_info": {
   "codemirror_mode": {
    "name": "ipython",
    "version": 3
   },
   "file_extension": ".py",
   "mimetype": "text/x-python",
   "name": "python",
   "nbconvert_exporter": "python",
   "pygments_lexer": "ipython3",
   "version": "3.11.5"
  }
 },
 "nbformat": 4,
 "nbformat_minor": 5
}
